{
 "cells": [
  {
   "cell_type": "markdown",
   "metadata": {},
   "source": [
    "# project setup\n",
    "\n",
    "## create first venv and activate that\n",
    "\n",
    "```bash\n",
    "#activate\n",
    "source .venv/bin/activate\n",
    "\n",
    "#deactivate - inside venv\n",
    "deactivate\n",
    "```\n",
    "\n",
    "## install necessary  \n",
    "\n",
    "```bash\n",
    "#inside venv\n",
    "pip3 install ibapi\n",
    "```"
   ]
  },
  {
   "cell_type": "markdown",
   "metadata": {},
   "source": [
    "# is the tws started ?? :-)\n",
    "# [FROM HERE](https://nbviewer.org/github/erdewit/ib_insync/blob/master/notebooks/contract_details.ipynb)"
   ]
  },
  {
   "cell_type": "code",
   "execution_count": null,
   "metadata": {},
   "outputs": [
    {
     "ename": "",
     "evalue": "",
     "output_type": "error",
     "traceback": [
      "\u001b[1;31mRunning cells with 'Python 3.11.2' requires the ipykernel package.\n",
      "\u001b[1;31mRun the following command to install 'ipykernel' into the Python environment. \n",
      "\u001b[1;31mCommand: '/bin/python3 -m pip install ipykernel -U --user --force-reinstall'"
     ]
    }
   ],
   "source": [
    "from ib_insync import *\n",
    "util.startLoop()\n",
    "\n",
    "import logging\n",
    "# util.logToConsole(logging.DEBUG)\n",
    "\n",
    "ib = IB()\n",
    "ib.connect('127.0.0.1', 7497, clientId=11)"
   ]
  }
 ],
 "metadata": {
  "kernelspec": {
   "display_name": "Python 3",
   "language": "python",
   "name": "python3"
  },
  "language_info": {
   "name": "python",
   "version": "3.11.2"
  }
 },
 "nbformat": 4,
 "nbformat_minor": 2
}
